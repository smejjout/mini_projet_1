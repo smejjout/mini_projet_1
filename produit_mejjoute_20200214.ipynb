{
 "cells": [
  {
   "cell_type": "markdown",
   "metadata": {
    "collapsed": true
   },
   "source": [
    "# Mini-Projet 1\n",
    "--------\n",
    "## Modèle de systeme d'achat de ticket de transport en commun"
   ]
  },
  {
   "cell_type": "code",
   "execution_count": 6,
   "metadata": {
    "pycharm": {
     "name": "#%%\n"
    }
   },
   "outputs": [],
   "source": [
    "# Management of public transit tickets\n",
    "# Modeling a ticket buying system\n",
    "\n",
    "def redirection(vehicle,\n",
    "                age,\n",
    "                class_nb,\n",
    "                nb_trip):\n",
    "    \"\"\"Main function managing the input and formatting the result\n",
    "    Parameters\n",
    "    ----------\n",
    "    vehicle: Type of transport, either \"bus\", \"train\", or \"subway\" (str)\n",
    "\n",
    "    age: Age of the passenger (int)\n",
    "\n",
    "    class_nb: In the case of train transportation, you have to specify the class, either 1 or 2\n",
    "        Defaults to 0 which means it's irrelevant (e.g. in a bus) (int)\n",
    "    nb_trip: The number of trips you want to buy\n",
    "        Defaults to 1 (int)\n",
    "\n",
    "    Returns\n",
    "    -------\n",
    "    The money you'll have to pay in [€] (float)\n",
    "    \"\"\"\n",
    "    price = 0\n",
    "    if nb_trip < 1:\n",
    "        print(\"Number of trip entered not strictly positive\")\n",
    "    elif vehicle == \"train\":\n",
    "        price = train(age, class_nb, nb_trip)\n",
    "    elif vehicle == \"bus\":\n",
    "        price = bus(nb_trip)\n",
    "    elif vehicle == \"subway\":\n",
    "        price = subway(nb_trip)\n",
    "    else:\n",
    "        print(\"Enter either train, bus, or subway\")\n",
    "    return price\n",
    "\n",
    "\n",
    "def main_buying(vehicle,\n",
    "                age=0,\n",
    "                class_nb=0,\n",
    "                nb_trip=1):\n",
    "    \"\"\"Main function managing the input and formatting the result\n",
    "    Parameters\n",
    "    ----------\n",
    "    vehicle: Type of transport, either \"bus\", \"train\", or \"subway\" (str)\n",
    "\n",
    "    age: Age of the passenger (int, optional)\n",
    "        Defaults to 0 meaning it's irrelevant to the prices\n",
    "\n",
    "    class_nb: In the case of train transportation, you have to specify the class, either 1 or 2\n",
    "        Defaults to 0 which means it's irrelevant (e.g. in a bus) (int, optional)\n",
    "\n",
    "    nb_trip: The number of trips you want to buy\n",
    "        Defaults to 1 (int, optional)\n",
    "    \"\"\"\n",
    "    # pass the parameters to the sub-function\n",
    "    # return the result\n",
    "    price = redirection(vehicle, age, class_nb, nb_trip)\n",
    "    print(\"You bought %d %s ticket for %.2f €\" % (nb_trip, vehicle, price))\n",
    "    if class_nb == 1:\n",
    "        print(\"You are in the 1st class!\")\n",
    "    elif class_nb == 2:\n",
    "        print(\"You are in the 2nd class.\")\n",
    "    pass\n",
    "\n",
    "\n",
    "def train(age,\n",
    "          class_nb,\n",
    "          nb_trip):\n",
    "    \"\"\"Sub-function managing train tickets\n",
    "    Parameters\n",
    "    ----------\n",
    "    age: Age of the passenger (int)\n",
    "\n",
    "    class_nb: In the case of train transportation, you have to specify the class, either 1 or 2\n",
    "        Defaults to 0 which means it's irrelevant (e.g. in a bus) (int)\n",
    "\n",
    "    nb_trip: The number of trips you want to buy (int)\n",
    "\n",
    "    Returns\n",
    "    -------\n",
    "    The price of a ticket in [€] (float)\n",
    "\n",
    "    Notes\n",
    "    -----\n",
    "    Every price is taken from https://belgiantrain.be\n",
    "    \"\"\"\n",
    "    price = 0\n",
    "    if class_nb > 2 or class_nb < 0:\n",
    "        print(\"The class number you entered doesn't exist.\")\n",
    "    elif class_nb == 0:\n",
    "        print(\"You did not enter a class number\")\n",
    "    elif age < 0:\n",
    "        print(\"Please enter a positive number for the age\")\n",
    "    elif age == 0:\n",
    "        print(\"You did not enter the age\")\n",
    "    elif nb_trip == 1:\n",
    "        if class_nb == 1:\n",
    "            if age <= 12:\n",
    "                price = 4.6\n",
    "            else:\n",
    "                price = 7.6\n",
    "        else:\n",
    "            if age <= 12:\n",
    "                price = 3.5\n",
    "            elif age <= 26:\n",
    "                price = 6.6\n",
    "            else:\n",
    "                price = 5.9\n",
    "    elif nb_trip == 2:\n",
    "        if class_nb == 1:\n",
    "            if age <= 12:\n",
    "                price = 9.2\n",
    "            elif age >= 65:\n",
    "                price = 15.3\n",
    "            else:\n",
    "                price = 15.2\n",
    "        else:\n",
    "            if age <= 12:\n",
    "                price = 7\n",
    "            elif age <= 26:\n",
    "                price = 13.2\n",
    "            elif age >= 65:\n",
    "                price = 7.2\n",
    "            else:\n",
    "                price = 11.8\n",
    "    elif nb_trip == 10:\n",
    "        if class_nb == 1:\n",
    "            price = 128\n",
    "        elif age <= 26:\n",
    "            price = 53\n",
    "        else:\n",
    "            price = 83\n",
    "    else:\n",
    "        nb_trip_10 = nb_trip // 10\n",
    "        nb_trip_2 = (nb_trip - nb_trip_10 * 10) // 2\n",
    "        nb_trip_rest = nb_trip - nb_trip_10 * 10 - nb_trip_2 * 2\n",
    "        price = nb_trip_10 * train(age, class_nb, 10) + \\\n",
    "            nb_trip_2 * train(age, class_nb, 2) + \\\n",
    "            nb_trip_rest * train(age, class_nb, 1)\n",
    "\n",
    "    return price\n",
    "\n",
    "\n",
    "def bus(nb_trip):\n",
    "    \"\"\"Sub-function managing bus tickets\n",
    "    Parameters\n",
    "    ----------\n",
    "    nb_trip: The number of trips you want to buy (int)\n",
    "\n",
    "    Returns\n",
    "    -------\n",
    "    The price of a ticket in [€] (float)\n",
    "\n",
    "    Notes\n",
    "    -----\n",
    "    Every price is taken from https://letec.be\n",
    "    \"\"\"\n",
    "    if nb_trip % 8 == nb_trip % 12:\n",
    "        if nb_trip % 8 >= 0 and nb_trip % 8 <= 3:\n",
    "            price = (nb_trip // 8) * 9.1 + (nb_trip % 8) * 2.5\n",
    "        else:\n",
    "            price = ((nb_trip // 8) + 1) * 9.1\n",
    "    elif nb_trip % 8 < nb_trip % 12:\n",
    "        if nb_trip % 8 == 1 or nb_trip % 8 == 0:\n",
    "            price = (nb_trip // 8) * 9.1 + (nb_trip % 8) * 2.5\n",
    "        else:\n",
    "            price = ((nb_trip // 12) + 1) * 13.5\n",
    "    elif nb_trip % 12 == 1 or nb_trip % 12 == 0:\n",
    "        price = (nb_trip // 12) * 13.5 + (nb_trip % 12) * 2.5\n",
    "    else:\n",
    "        price = ((nb_trip // 8) + 1) * 9.1\n",
    "    return price\n",
    "\n",
    "\n",
    "def subway(nb_trip):\n",
    "    \"\"\"Sub-function managing subway tickets\n",
    "    Parameters\n",
    "    ----------\n",
    "    nb_trip: The number of trips you want to buy (int)\n",
    "\n",
    "    Returns\n",
    "    -------\n",
    "    The price of a ticket in [€] (float)\n",
    "\n",
    "    Notes\n",
    "    -----\n",
    "    Every price is taken from https://www.stib-mivb.be\n",
    "    \"\"\"\n",
    "    price = 0\n",
    "    if nb_trip - nb_trip % 5 == nb_trip - nb_trip % 10:  # [X0;X5[\n",
    "        if nb_trip % 5 >= 0 and nb_trip % 5 <= 3:\n",
    "            price = (nb_trip // 10) * 14 + (nb_trip % 10) * 2.1\n",
    "        else:\n",
    "            price = (nb_trip // 10) * 10 + 8\n",
    "    elif nb_trip % 5 < nb_trip % 10:  # [X5;X0[ left the if for readability\n",
    "        if nb_trip % 5 >= 0 and nb_trip % 5 <= 2:\n",
    "            price = (nb_trip // 10) * 14 + 8 + (nb_trip % 5) * 2.1\n",
    "        else:\n",
    "            price = ((nb_trip // 10) + 1) * 14\n",
    "\n",
    "    return price"
   ]
  },
  {
   "cell_type": "markdown",
   "source": [
    "## Example of Use Case n°1\n",
    "Le passager a 27 ans et prend 3 tickets de train en 2ème classe"
   ],
   "metadata": {
    "collapsed": false,
    "pycharm": {
     "name": "#%% md\n"
    }
   }
  },
  {
   "cell_type": "code",
   "execution_count": 7,
   "outputs": [
    {
     "name": "stdout",
     "output_type": "stream",
     "text": [
      "You bought 3 train ticket for 17.70 €\n",
      "You are in the 2nd class.\n"
     ]
    }
   ],
   "source": [
    "main_buying(\"train\",age=27,class_nb=2,nb_trip=3)"
   ],
   "metadata": {
    "collapsed": false,
    "pycharm": {
     "name": "#%%\n"
    }
   }
  },
  {
   "cell_type": "markdown",
   "source": [
    "## Example of Use Case n°2\n",
    "\n",
    "Le passager prend 18 tickets de bus"
   ],
   "metadata": {
    "collapsed": false,
    "pycharm": {
     "name": "#%% md\n"
    }
   }
  },
  {
   "cell_type": "code",
   "execution_count": 8,
   "outputs": [
    {
     "name": "stdout",
     "output_type": "stream",
     "text": [
      "You bought 18 bus ticket for 27.00 €\n"
     ]
    }
   ],
   "source": [
    "main_buying(\"bus\",nb_trip=18)"
   ],
   "metadata": {
    "collapsed": false,
    "pycharm": {
     "name": "#%%\n"
    }
   }
  },
  {
   "cell_type": "markdown",
   "source": [
    "## Example of Use Case n°3\n",
    "\n",
    "Le passager prend 7 ticket de métro"
   ],
   "metadata": {
    "collapsed": false,
    "pycharm": {
     "name": "#%% md\n"
    }
   }
  },
  {
   "cell_type": "code",
   "execution_count": 9,
   "outputs": [
    {
     "name": "stdout",
     "output_type": "stream",
     "text": [
      "You bought 7 subway ticket for 12.20 €\n"
     ]
    }
   ],
   "source": [
    "main_buying(\"subway\",nb_trip=7)"
   ],
   "metadata": {
    "collapsed": false,
    "pycharm": {
     "name": "#%%\n"
    }
   }
  }
 ],
 "metadata": {
  "kernelspec": {
   "display_name": "Python 3",
   "language": "python",
   "name": "python3"
  },
  "language_info": {
   "codemirror_mode": {
    "name": "ipython",
    "version": 3
   },
   "file_extension": ".py",
   "mimetype": "text/x-python",
   "name": "python",
   "nbconvert_exporter": "python",
   "pygments_lexer": "ipython3",
   "version": "3.8.5"
  }
 },
 "nbformat": 4,
 "nbformat_minor": 1
}